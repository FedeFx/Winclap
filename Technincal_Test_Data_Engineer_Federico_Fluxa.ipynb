{
  "nbformat": 4,
  "nbformat_minor": 0,
  "metadata": {
    "colab": {
      "provenance": []
    },
    "kernelspec": {
      "name": "python3",
      "display_name": "Python 3"
    },
    "language_info": {
      "name": "python"
    }
  },
  "cells": [
    {
      "cell_type": "markdown",
      "source": [
        "## Primer Ejercicio"
      ],
      "metadata": {
        "id": "fF_T4-Y2iTKM"
      }
    },
    {
      "cell_type": "code",
      "execution_count": 2,
      "metadata": {
        "colab": {
          "base_uri": "https://localhost:8080/"
        },
        "id": "ugjA847Oca4E",
        "outputId": "960c8a05-f18f-4ace-f4dc-4008ab8934f7"
      },
      "outputs": [
        {
          "output_type": "stream",
          "name": "stdout",
          "text": [
            "['riant']\n",
            "--\n",
            "['diver', 'rived']\n",
            "--\n",
            "['phyton', 'typhon']\n"
          ]
        }
      ],
      "source": [
        "def annograms(word):\n",
        "  \"\"\"Esta función recibe una palabra por parámetro, luego abre el archivo WORD.lst\n",
        "  luego transforma la palabra en una lista de caracteres y la ordena alfabéticamente.\n",
        "  A Partir de alli se compara cada una de las listas ordenada de cada palabra del archivo WORD.lst con la lista de la palabra parámetro\n",
        "  Aquellas que son iguales en sus versiones ordenadas y distintas en su forma original con la palabra parámetro, se guardan en una lista que es el retorno de la función\n",
        "  \"\"\"\n",
        "  words = [w.rstrip() for w in open(r'/content/WORD.lst')]\n",
        "  sorted_word= sorted(word)\n",
        "  annograms=[]\n",
        "  for term in words:\n",
        "    if sorted(term) == sorted_word and term != word:\n",
        "            annograms.append(term)\n",
        "  return annograms\n",
        "\n",
        "if __name__ == \"__main__\":\n",
        "  print(annograms(\"train\"))\n",
        "  print('--')\n",
        "  print(annograms('drive'))\n",
        "  print('--')\n",
        "  print(annograms('python'))"
      ]
    },
    {
      "cell_type": "markdown",
      "source": [
        "## Segundo Ejercicio"
      ],
      "metadata": {
        "id": "Sa0XAxa9iZcB"
      }
    },
    {
      "cell_type": "code",
      "source": [
        "#Se abre el archivo con la muestra.(Se va a exluir el elemento de la posición 0 al representar el número de objetos de la muestra y no un elemento de la muestra en sí)\n",
        "with open('/content/c-input.in', 'r') as file:\n",
        "      content_list = file.readlines()\n",
        "      content_list = [line.strip() for line in content_list]"
      ],
      "metadata": {
        "id": "exVIihBtij-x"
      },
      "execution_count": 6,
      "outputs": []
    },
    {
      "cell_type": "code",
      "source": [
        "def sleep(case_test,N,T):\n",
        "  check=['0','1','2','3','4','5','6','7','8','9']\n",
        "  flag = True\n",
        "  i=0\n",
        "  N=int(N)\n",
        "  while flag and i<1000 and N != 0:\n",
        "    number = (i + 1)*N\n",
        "    cadena_numero = sorted(str(number))\n",
        "    check = list(set(check) - set(cadena_numero))\n",
        "\n",
        "    if not check:\n",
        "      flag = False\n",
        "      print(\"Case #\" + str(case_test + 1) + \": \" + str(number))\n",
        "\n",
        "    i = i+1\n",
        "  if flag:\n",
        "    print(\"Case #\" + str(case_test + 1) + \": \" +': INSOMNIA')\n",
        "  print(\"------------------------------------------\")\n"
      ],
      "metadata": {
        "id": "PJ8nTmFdsdcV"
      },
      "execution_count": 7,
      "outputs": []
    },
    {
      "cell_type": "code",
      "source": [
        "#Esta linea es importante porque la lista de valores no coincide con el ejemplo dado en la consigna del ejercicio.\n",
        "content_list[5] = 1692"
      ],
      "metadata": {
        "id": "QKkbnosajLhM"
      },
      "execution_count": 8,
      "outputs": []
    },
    {
      "cell_type": "code",
      "source": [
        "#Aquí inicia la simulación.\n",
        "if __name__ == \"__main__\":\n",
        "  #Se ingresa por consola el número de casos de test, T.\n",
        "  num_test_cases = int(input(\"Ingrese el número de tests que quiere realizar: \"))\n",
        "  for j in range(num_test_cases):\n",
        "    #Se instancia la función sleep\n",
        "    sleep(j,content_list[1+j],content_list[0])"
      ],
      "metadata": {
        "colab": {
          "base_uri": "https://localhost:8080/"
        },
        "id": "NsNAjgkhtbdO",
        "outputId": "052d9d97-a0fb-4260-f50f-d15de32ef3a3"
      },
      "execution_count": 14,
      "outputs": [
        {
          "output_type": "stream",
          "name": "stdout",
          "text": [
            "Ingrese el número de test que quiere realizar: 5\n",
            "Case #1: : INSOMNIA\n",
            "------------------------------------------\n",
            "Case #2: 10\n",
            "------------------------------------------\n",
            "Case #3: 90\n",
            "------------------------------------------\n",
            "Case #4: 110\n",
            "------------------------------------------\n",
            "Case #5: 5076\n",
            "------------------------------------------\n"
          ]
        }
      ]
    },
    {
      "cell_type": "markdown",
      "source": [
        "## Tercer Ejercicio"
      ],
      "metadata": {
        "id": "IoDp1V927q96"
      }
    },
    {
      "cell_type": "code",
      "source": [
        "import pandas as pd\n",
        "import matplotlib.pyplot as plt"
      ],
      "metadata": {
        "id": "MSfr5TLb7uMv"
      },
      "execution_count": 16,
      "outputs": []
    },
    {
      "cell_type": "markdown",
      "source": [
        "Lectura del df"
      ],
      "metadata": {
        "id": "a5oqpOGY7-VO"
      }
    },
    {
      "cell_type": "code",
      "source": [
        "df = pd.read_csv(r'/content/dataset.csv')"
      ],
      "metadata": {
        "id": "o1K0tpY97-CS"
      },
      "execution_count": 18,
      "outputs": []
    },
    {
      "cell_type": "markdown",
      "source": [
        "Se transforma la columna summary_date a formato datetime"
      ],
      "metadata": {
        "id": "udBln7sgpNr-"
      }
    },
    {
      "cell_type": "code",
      "source": [
        "df['summary_date'] = pd.to_datetime(df['summary_date']).dt.date"
      ],
      "metadata": {
        "id": "2nB9xBj-8S1v"
      },
      "execution_count": null,
      "outputs": []
    },
    {
      "cell_type": "markdown",
      "source": [
        "Vemos las primeras 2 filas de ejemplo"
      ],
      "metadata": {
        "id": "mCV-isgcpPBm"
      }
    },
    {
      "cell_type": "code",
      "source": [
        "df.head(2)"
      ],
      "metadata": {
        "colab": {
          "base_uri": "https://localhost:8080/",
          "height": 211
        },
        "id": "K5q5l4-e8G3z",
        "outputId": "50ba89be-fc92-486e-d955-08fe9e20f787"
      },
      "execution_count": null,
      "outputs": [
        {
          "output_type": "execute_result",
          "data": {
            "text/plain": [
              "  summary_date         app_id app_type        app_name  campaign_id  \\\n",
              "0   2022-06-14  com.super.app  android  Super App 2000  campaign_16   \n",
              "1   2022-07-10  com.super.app  android  Super App 2000  campaign_16   \n",
              "\n",
              "       campaign_name       ad_id           ad_name  impressions  clicks  \\\n",
              "0  Super campaign 16  ad_16L8hGR  Super AD 16L8hGR         82.0    46.0   \n",
              "1  Super campaign 16  ad_16z49oF  Super AD 16z49oF       1942.0  1226.0   \n",
              "\n",
              "   installs    spend   event_name  events_d0  events_d7  unique_events_d0  \\\n",
              "0       NaN  0.00455  super_event        NaN        NaN               NaN   \n",
              "1       2.0  0.88920  super_event        0.0        0.0               0.0   \n",
              "\n",
              "   unique_events_d7  \n",
              "0               NaN  \n",
              "1               0.0  "
            ],
            "text/html": [
              "\n",
              "\n",
              "  <div id=\"df-b7065317-8c0f-4a2f-a56d-d321049d43df\">\n",
              "    <div class=\"colab-df-container\">\n",
              "      <div>\n",
              "<style scoped>\n",
              "    .dataframe tbody tr th:only-of-type {\n",
              "        vertical-align: middle;\n",
              "    }\n",
              "\n",
              "    .dataframe tbody tr th {\n",
              "        vertical-align: top;\n",
              "    }\n",
              "\n",
              "    .dataframe thead th {\n",
              "        text-align: right;\n",
              "    }\n",
              "</style>\n",
              "<table border=\"1\" class=\"dataframe\">\n",
              "  <thead>\n",
              "    <tr style=\"text-align: right;\">\n",
              "      <th></th>\n",
              "      <th>summary_date</th>\n",
              "      <th>app_id</th>\n",
              "      <th>app_type</th>\n",
              "      <th>app_name</th>\n",
              "      <th>campaign_id</th>\n",
              "      <th>campaign_name</th>\n",
              "      <th>ad_id</th>\n",
              "      <th>ad_name</th>\n",
              "      <th>impressions</th>\n",
              "      <th>clicks</th>\n",
              "      <th>installs</th>\n",
              "      <th>spend</th>\n",
              "      <th>event_name</th>\n",
              "      <th>events_d0</th>\n",
              "      <th>events_d7</th>\n",
              "      <th>unique_events_d0</th>\n",
              "      <th>unique_events_d7</th>\n",
              "    </tr>\n",
              "  </thead>\n",
              "  <tbody>\n",
              "    <tr>\n",
              "      <th>0</th>\n",
              "      <td>2022-06-14</td>\n",
              "      <td>com.super.app</td>\n",
              "      <td>android</td>\n",
              "      <td>Super App 2000</td>\n",
              "      <td>campaign_16</td>\n",
              "      <td>Super campaign 16</td>\n",
              "      <td>ad_16L8hGR</td>\n",
              "      <td>Super AD 16L8hGR</td>\n",
              "      <td>82.0</td>\n",
              "      <td>46.0</td>\n",
              "      <td>NaN</td>\n",
              "      <td>0.00455</td>\n",
              "      <td>super_event</td>\n",
              "      <td>NaN</td>\n",
              "      <td>NaN</td>\n",
              "      <td>NaN</td>\n",
              "      <td>NaN</td>\n",
              "    </tr>\n",
              "    <tr>\n",
              "      <th>1</th>\n",
              "      <td>2022-07-10</td>\n",
              "      <td>com.super.app</td>\n",
              "      <td>android</td>\n",
              "      <td>Super App 2000</td>\n",
              "      <td>campaign_16</td>\n",
              "      <td>Super campaign 16</td>\n",
              "      <td>ad_16z49oF</td>\n",
              "      <td>Super AD 16z49oF</td>\n",
              "      <td>1942.0</td>\n",
              "      <td>1226.0</td>\n",
              "      <td>2.0</td>\n",
              "      <td>0.88920</td>\n",
              "      <td>super_event</td>\n",
              "      <td>0.0</td>\n",
              "      <td>0.0</td>\n",
              "      <td>0.0</td>\n",
              "      <td>0.0</td>\n",
              "    </tr>\n",
              "  </tbody>\n",
              "</table>\n",
              "</div>\n",
              "      <button class=\"colab-df-convert\" onclick=\"convertToInteractive('df-b7065317-8c0f-4a2f-a56d-d321049d43df')\"\n",
              "              title=\"Convert this dataframe to an interactive table.\"\n",
              "              style=\"display:none;\">\n",
              "\n",
              "  <svg xmlns=\"http://www.w3.org/2000/svg\" height=\"24px\"viewBox=\"0 0 24 24\"\n",
              "       width=\"24px\">\n",
              "    <path d=\"M0 0h24v24H0V0z\" fill=\"none\"/>\n",
              "    <path d=\"M18.56 5.44l.94 2.06.94-2.06 2.06-.94-2.06-.94-.94-2.06-.94 2.06-2.06.94zm-11 1L8.5 8.5l.94-2.06 2.06-.94-2.06-.94L8.5 2.5l-.94 2.06-2.06.94zm10 10l.94 2.06.94-2.06 2.06-.94-2.06-.94-.94-2.06-.94 2.06-2.06.94z\"/><path d=\"M17.41 7.96l-1.37-1.37c-.4-.4-.92-.59-1.43-.59-.52 0-1.04.2-1.43.59L10.3 9.45l-7.72 7.72c-.78.78-.78 2.05 0 2.83L4 21.41c.39.39.9.59 1.41.59.51 0 1.02-.2 1.41-.59l7.78-7.78 2.81-2.81c.8-.78.8-2.07 0-2.86zM5.41 20L4 18.59l7.72-7.72 1.47 1.35L5.41 20z\"/>\n",
              "  </svg>\n",
              "      </button>\n",
              "\n",
              "\n",
              "\n",
              "    <div id=\"df-2e47555d-a810-4a75-abec-4ea24bce24a7\">\n",
              "      <button class=\"colab-df-quickchart\" onclick=\"quickchart('df-2e47555d-a810-4a75-abec-4ea24bce24a7')\"\n",
              "              title=\"Suggest charts.\"\n",
              "              style=\"display:none;\">\n",
              "\n",
              "<svg xmlns=\"http://www.w3.org/2000/svg\" height=\"24px\"viewBox=\"0 0 24 24\"\n",
              "     width=\"24px\">\n",
              "    <g>\n",
              "        <path d=\"M19 3H5c-1.1 0-2 .9-2 2v14c0 1.1.9 2 2 2h14c1.1 0 2-.9 2-2V5c0-1.1-.9-2-2-2zM9 17H7v-7h2v7zm4 0h-2V7h2v10zm4 0h-2v-4h2v4z\"/>\n",
              "    </g>\n",
              "</svg>\n",
              "      </button>\n",
              "    </div>\n",
              "\n",
              "<style>\n",
              "  .colab-df-quickchart {\n",
              "    background-color: #E8F0FE;\n",
              "    border: none;\n",
              "    border-radius: 50%;\n",
              "    cursor: pointer;\n",
              "    display: none;\n",
              "    fill: #1967D2;\n",
              "    height: 32px;\n",
              "    padding: 0 0 0 0;\n",
              "    width: 32px;\n",
              "  }\n",
              "\n",
              "  .colab-df-quickchart:hover {\n",
              "    background-color: #E2EBFA;\n",
              "    box-shadow: 0px 1px 2px rgba(60, 64, 67, 0.3), 0px 1px 3px 1px rgba(60, 64, 67, 0.15);\n",
              "    fill: #174EA6;\n",
              "  }\n",
              "\n",
              "  [theme=dark] .colab-df-quickchart {\n",
              "    background-color: #3B4455;\n",
              "    fill: #D2E3FC;\n",
              "  }\n",
              "\n",
              "  [theme=dark] .colab-df-quickchart:hover {\n",
              "    background-color: #434B5C;\n",
              "    box-shadow: 0px 1px 3px 1px rgba(0, 0, 0, 0.15);\n",
              "    filter: drop-shadow(0px 1px 2px rgba(0, 0, 0, 0.3));\n",
              "    fill: #FFFFFF;\n",
              "  }\n",
              "</style>\n",
              "\n",
              "    <script>\n",
              "      async function quickchart(key) {\n",
              "        const containerElement = document.querySelector('#' + key);\n",
              "        const charts = await google.colab.kernel.invokeFunction(\n",
              "            'suggestCharts', [key], {});\n",
              "      }\n",
              "    </script>\n",
              "\n",
              "      <script>\n",
              "\n",
              "function displayQuickchartButton(domScope) {\n",
              "  let quickchartButtonEl =\n",
              "    domScope.querySelector('#df-2e47555d-a810-4a75-abec-4ea24bce24a7 button.colab-df-quickchart');\n",
              "  quickchartButtonEl.style.display =\n",
              "    google.colab.kernel.accessAllowed ? 'block' : 'none';\n",
              "}\n",
              "\n",
              "        displayQuickchartButton(document);\n",
              "      </script>\n",
              "      <style>\n",
              "    .colab-df-container {\n",
              "      display:flex;\n",
              "      flex-wrap:wrap;\n",
              "      gap: 12px;\n",
              "    }\n",
              "\n",
              "    .colab-df-convert {\n",
              "      background-color: #E8F0FE;\n",
              "      border: none;\n",
              "      border-radius: 50%;\n",
              "      cursor: pointer;\n",
              "      display: none;\n",
              "      fill: #1967D2;\n",
              "      height: 32px;\n",
              "      padding: 0 0 0 0;\n",
              "      width: 32px;\n",
              "    }\n",
              "\n",
              "    .colab-df-convert:hover {\n",
              "      background-color: #E2EBFA;\n",
              "      box-shadow: 0px 1px 2px rgba(60, 64, 67, 0.3), 0px 1px 3px 1px rgba(60, 64, 67, 0.15);\n",
              "      fill: #174EA6;\n",
              "    }\n",
              "\n",
              "    [theme=dark] .colab-df-convert {\n",
              "      background-color: #3B4455;\n",
              "      fill: #D2E3FC;\n",
              "    }\n",
              "\n",
              "    [theme=dark] .colab-df-convert:hover {\n",
              "      background-color: #434B5C;\n",
              "      box-shadow: 0px 1px 3px 1px rgba(0, 0, 0, 0.15);\n",
              "      filter: drop-shadow(0px 1px 2px rgba(0, 0, 0, 0.3));\n",
              "      fill: #FFFFFF;\n",
              "    }\n",
              "  </style>\n",
              "\n",
              "      <script>\n",
              "        const buttonEl =\n",
              "          document.querySelector('#df-b7065317-8c0f-4a2f-a56d-d321049d43df button.colab-df-convert');\n",
              "        buttonEl.style.display =\n",
              "          google.colab.kernel.accessAllowed ? 'block' : 'none';\n",
              "\n",
              "        async function convertToInteractive(key) {\n",
              "          const element = document.querySelector('#df-b7065317-8c0f-4a2f-a56d-d321049d43df');\n",
              "          const dataTable =\n",
              "            await google.colab.kernel.invokeFunction('convertToInteractive',\n",
              "                                                     [key], {});\n",
              "          if (!dataTable) return;\n",
              "\n",
              "          const docLinkHtml = 'Like what you see? Visit the ' +\n",
              "            '<a target=\"_blank\" href=https://colab.research.google.com/notebooks/data_table.ipynb>data table notebook</a>'\n",
              "            + ' to learn more about interactive tables.';\n",
              "          element.innerHTML = '';\n",
              "          dataTable['output_type'] = 'display_data';\n",
              "          await google.colab.output.renderOutput(dataTable, element);\n",
              "          const docLink = document.createElement('div');\n",
              "          docLink.innerHTML = docLinkHtml;\n",
              "          element.appendChild(docLink);\n",
              "        }\n",
              "      </script>\n",
              "    </div>\n",
              "  </div>\n"
            ]
          },
          "metadata": {},
          "execution_count": 5
        }
      ]
    },
    {
      "cell_type": "code",
      "source": [
        "min_date = df[\"summary_date\"].min()\n",
        "max_date = df[\"summary_date\"].max()\n",
        "\n",
        "print(\"Fecha mas antigua del dataset: \" + str(min_date))\n",
        "# 2023-01-01\n",
        "\n",
        "print(\"Fecha mas reciente del dataset: \" + str(max_date))\n",
        "# 2023-03-03"
      ],
      "metadata": {
        "colab": {
          "base_uri": "https://localhost:8080/"
        },
        "id": "thnC3k3OsngL",
        "outputId": "e86b97e3-aa90-4824-a3d2-7f2ffbb9d7a5"
      },
      "execution_count": 20,
      "outputs": [
        {
          "output_type": "stream",
          "name": "stdout",
          "text": [
            "Fecha mas antigua del dataset: 2022.06.01\n",
            "Fecha mas reciente del dataset: 2022.07.31\n"
          ]
        }
      ]
    },
    {
      "cell_type": "markdown",
      "source": [
        "### Datos pedidos por la consigna\n"
      ],
      "metadata": {
        "id": "YzZ39s9LspGg"
      }
    },
    {
      "cell_type": "code",
      "source": [
        "df_number_impressions = df.groupby('campaign_id')['impressions'].sum()\n",
        "print(df_number_impressions)"
      ],
      "metadata": {
        "colab": {
          "base_uri": "https://localhost:8080/"
        },
        "id": "R8f5eBL28fQ7",
        "outputId": "1ffe868e-d81e-4ff5-95d1-bac7ffce8a4c"
      },
      "execution_count": 21,
      "outputs": [
        {
          "output_type": "stream",
          "name": "stdout",
          "text": [
            "campaign_id\n",
            "campaign_10            0.0\n",
            "campaign_13            0.0\n",
            "campaign_16    245177026.0\n",
            "campaign_4             0.0\n",
            "campaign_5             0.0\n",
            "campaign_6      95681244.0\n",
            "campaign_9             0.0\n",
            "Name: impressions, dtype: float64\n"
          ]
        }
      ]
    },
    {
      "cell_type": "code",
      "source": [
        "df_number_clicks = df.groupby('campaign_id')['clicks'].sum()\n",
        "print(df_number_clicks)"
      ],
      "metadata": {
        "colab": {
          "base_uri": "https://localhost:8080/"
        },
        "id": "WoTWJ6Kk9PnR",
        "outputId": "9337e30b-051c-4865-b37d-78062c7865b1"
      },
      "execution_count": null,
      "outputs": [
        {
          "output_type": "stream",
          "name": "stdout",
          "text": [
            "campaign_id\n",
            "campaign_10    5429764.0\n",
            "campaign_13          0.0\n",
            "campaign_16    2132984.0\n",
            "campaign_4           0.0\n",
            "campaign_5           0.0\n",
            "campaign_6      847818.0\n",
            "campaign_9           0.0\n",
            "Name: clicks, dtype: float64\n"
          ]
        }
      ]
    },
    {
      "cell_type": "code",
      "source": [
        "df_number_installs = df.groupby('campaign_id')['installs'].sum()\n",
        "print(df_number_installs)"
      ],
      "metadata": {
        "colab": {
          "base_uri": "https://localhost:8080/"
        },
        "id": "kSA97EpY9fFb",
        "outputId": "bf6c0e9c-84aa-482b-e15c-8742a7d8378d"
      },
      "execution_count": null,
      "outputs": [
        {
          "output_type": "stream",
          "name": "stdout",
          "text": [
            "campaign_id\n",
            "campaign_10    213682.0\n",
            "campaign_13         2.0\n",
            "campaign_16     28776.0\n",
            "campaign_4         26.0\n",
            "campaign_5       1072.0\n",
            "campaign_6       3776.0\n",
            "campaign_9     541224.0\n",
            "Name: installs, dtype: float64\n"
          ]
        }
      ]
    },
    {
      "cell_type": "code",
      "source": [
        "df_amount_spend = df.groupby('campaign_id')['spend'].sum()\n",
        "print(df_amount_spend)"
      ],
      "metadata": {
        "colab": {
          "base_uri": "https://localhost:8080/"
        },
        "id": "dEiGuvfl9t96",
        "outputId": "f0478887-3fac-4854-8f47-fca8f3730ae8"
      },
      "execution_count": null,
      "outputs": [
        {
          "output_type": "stream",
          "name": "stdout",
          "text": [
            "campaign_id\n",
            "campaign_10    57194.6700\n",
            "campaign_13        0.0000\n",
            "campaign_16    18314.5937\n",
            "campaign_4         0.0000\n",
            "campaign_5         0.0000\n",
            "campaign_6      1422.1974\n",
            "campaign_9         0.0000\n",
            "Name: spend, dtype: float64\n"
          ]
        }
      ]
    },
    {
      "cell_type": "code",
      "source": [
        "CTR = df_number_clicks/df_number_impressions\n",
        "print(CTR)"
      ],
      "metadata": {
        "colab": {
          "base_uri": "https://localhost:8080/",
          "height": 299
        },
        "id": "-06GnvNu99QS",
        "outputId": "1a5d15c8-a198-46a3-d4aa-4f1bbdfe8f06"
      },
      "execution_count": null,
      "outputs": [
        {
          "output_type": "stream",
          "name": "stdout",
          "text": [
            "campaign_id\n",
            "campaign_10         inf\n",
            "campaign_13         NaN\n",
            "campaign_16    0.008700\n",
            "campaign_4          NaN\n",
            "campaign_5          NaN\n",
            "campaign_6     0.008861\n",
            "campaign_9          NaN\n",
            "dtype: float64\n"
          ]
        },
        {
          "output_type": "display_data",
          "data": {
            "text/plain": [
              "<Figure size 400x100 with 1 Axes>"
            ],
            "image/png": "[encoded data removed]"
          },
          "metadata": {}
        }
      ]
    },
    {
      "cell_type": "code",
      "source": [
        "CPI = df_amount_spend/df_number_installs\n",
        "print(CPI)"
      ],
      "metadata": {
        "colab": {
          "base_uri": "https://localhost:8080/"
        },
        "id": "pAUyI9hV-WBP",
        "outputId": "2d1151ea-dfd1-45ed-bb65-3acc00d511ea"
      },
      "execution_count": null,
      "outputs": [
        {
          "output_type": "stream",
          "name": "stdout",
          "text": [
            "campaign_id\n",
            "campaign_10    0.267663\n",
            "campaign_13    0.000000\n",
            "campaign_16    0.636454\n",
            "campaign_4     0.000000\n",
            "campaign_5     0.000000\n",
            "campaign_6     0.376641\n",
            "campaign_9     0.000000\n",
            "dtype: float64\n"
          ]
        }
      ]
    },
    {
      "cell_type": "markdown",
      "source": [
        "### EDA"
      ],
      "metadata": {
        "id": "HLByhA2bstpW"
      }
    },
    {
      "cell_type": "markdown",
      "source": [
        "El df tiene esta cantidad de filas:"
      ],
      "metadata": {
        "id": "0Mg7RSPouW9J"
      }
    },
    {
      "cell_type": "code",
      "source": [
        "df.shape[0]"
      ],
      "metadata": {
        "colab": {
          "base_uri": "https://localhost:8080/"
        },
        "id": "yvEAAVnRuLyF",
        "outputId": "e14d9116-fe08-420a-972b-f75efd1fe488"
      },
      "execution_count": null,
      "outputs": [
        {
          "output_type": "execute_result",
          "data": {
            "text/plain": [
              "1570"
            ]
          },
          "metadata": {},
          "execution_count": 12
        }
      ]
    },
    {
      "cell_type": "markdown",
      "source": [
        "El df tiene esta cantidad de columnas:"
      ],
      "metadata": {
        "id": "shxmMOGgucmJ"
      }
    },
    {
      "cell_type": "code",
      "source": [
        "df.shape[1]"
      ],
      "metadata": {
        "colab": {
          "base_uri": "https://localhost:8080/"
        },
        "id": "etqWutbpuhXT",
        "outputId": "56bd2b2e-85fd-4d54-d11e-7d99aae67ca8"
      },
      "execution_count": null,
      "outputs": [
        {
          "output_type": "execute_result",
          "data": {
            "text/plain": [
              "17"
            ]
          },
          "metadata": {},
          "execution_count": 13
        }
      ]
    },
    {
      "cell_type": "markdown",
      "source": [
        "Las columnas del df son:"
      ],
      "metadata": {
        "id": "A9gwD0FEuSW4"
      }
    },
    {
      "cell_type": "code",
      "source": [
        "str(df.columns)"
      ],
      "metadata": {
        "colab": {
          "base_uri": "https://localhost:8080/",
          "height": 53
        },
        "id": "5TjoIPT9uIRB",
        "outputId": "268d8ff2-9b81-43f0-9790-df7897357423"
      },
      "execution_count": null,
      "outputs": [
        {
          "output_type": "execute_result",
          "data": {
            "text/plain": [
              "\"Index(['summary_date', 'app_id', 'app_type', 'app_name', 'campaign_id',\\n       'campaign_name', 'ad_id', 'ad_name', 'impressions', 'clicks',\\n       'installs', 'spend', 'event_name', 'events_d0', 'events_d7',\\n       'unique_events_d0', 'unique_events_d7'],\\n      dtype='object')\""
            ],
            "application/vnd.google.colaboratory.intrinsic+json": {
              "type": "string"
            }
          },
          "metadata": {},
          "execution_count": 15
        }
      ]
    },
    {
      "cell_type": "markdown",
      "source": [
        "Revisión de duplicados"
      ],
      "metadata": {
        "id": "7TAIGUdrzgbj"
      }
    },
    {
      "cell_type": "code",
      "source": [
        "duplicated_columns = df[df.duplicated(['summary_date','campaign_id','ad_id'])]\n",
        "print(duplicated_columns)"
      ],
      "metadata": {
        "colab": {
          "base_uri": "https://localhost:8080/"
        },
        "id": "ujre_kTXzFQK",
        "outputId": "c4eb894b-e4ae-432e-fa35-f243db7b125a"
      },
      "execution_count": null,
      "outputs": [
        {
          "output_type": "stream",
          "name": "stdout",
          "text": [
            "Empty DataFrame\n",
            "Columns: [summary_date, app_id, app_type, app_name, campaign_id, campaign_name, ad_id, ad_name, impressions, clicks, installs, spend, event_name, events_d0, events_d7, unique_events_d0, unique_events_d7]\n",
            "Index: []\n"
          ]
        }
      ]
    },
    {
      "cell_type": "markdown",
      "source": [
        "Algunas metricas rapidas."
      ],
      "metadata": {
        "id": "3FOpEI--5aQe"
      }
    },
    {
      "cell_type": "code",
      "source": [
        "df.describe()"
      ],
      "metadata": {
        "colab": {
          "base_uri": "https://localhost:8080/",
          "height": 300
        },
        "id": "AUiIGaGZzla0",
        "outputId": "7d2be818-3d94-49ad-b39f-8654c9e6c4d6"
      },
      "execution_count": null,
      "outputs": [
        {
          "output_type": "execute_result",
          "data": {
            "text/plain": [
              "        impressions        clicks      installs        spend   events_d0  \\\n",
              "count  1.489000e+03  1.489000e+03    826.000000  1489.000000  826.000000   \n",
              "mean   2.289176e+05  5.648466e+03    954.670702    51.666529    4.322034   \n",
              "std    6.223744e+05  4.006779e+04   5317.702577   294.343442   10.845378   \n",
              "min    0.000000e+00  0.000000e+00      2.000000     0.000000    0.000000   \n",
              "25%    4.800000e+01  6.000000e+00      4.000000     0.011700    0.000000   \n",
              "50%    4.984000e+03  9.000000e+01     12.000000     0.689650    0.000000   \n",
              "75%    7.424400e+04  1.288000e+03     42.000000     9.286550    2.000000   \n",
              "max    5.825656e+06  1.215918e+06  83240.000000  4803.045000   82.000000   \n",
              "\n",
              "        events_d7  unique_events_d0  unique_events_d7  \n",
              "count  826.000000        826.000000        826.000000  \n",
              "mean     5.491525          3.573850          4.210654  \n",
              "std     14.054200          8.846297         10.448334  \n",
              "min      0.000000          0.000000          0.000000  \n",
              "25%      0.000000          0.000000          0.000000  \n",
              "50%      0.000000          0.000000          0.000000  \n",
              "75%      4.000000          2.000000          2.000000  \n",
              "max    116.000000         58.000000         68.000000  "
            ],
            "text/html": [
              "\n",
              "\n",
              "  <div id=\"df-e19a0e8d-e149-4896-867b-bb61ae780a81\">\n",
              "    <div class=\"colab-df-container\">\n",
              "      <div>\n",
              "<style scoped>\n",
              "    .dataframe tbody tr th:only-of-type {\n",
              "        vertical-align: middle;\n",
              "    }\n",
              "\n",
              "    .dataframe tbody tr th {\n",
              "        vertical-align: top;\n",
              "    }\n",
              "\n",
              "    .dataframe thead th {\n",
              "        text-align: right;\n",
              "    }\n",
              "</style>\n",
              "<table border=\"1\" class=\"dataframe\">\n",
              "  <thead>\n",
              "    <tr style=\"text-align: right;\">\n",
              "      <th></th>\n",
              "      <th>impressions</th>\n",
              "      <th>clicks</th>\n",
              "      <th>installs</th>\n",
              "      <th>spend</th>\n",
              "      <th>events_d0</th>\n",
              "      <th>events_d7</th>\n",
              "      <th>unique_events_d0</th>\n",
              "      <th>unique_events_d7</th>\n",
              "    </tr>\n",
              "  </thead>\n",
              "  <tbody>\n",
              "    <tr>\n",
              "      <th>count</th>\n",
              "      <td>1.489000e+03</td>\n",
              "      <td>1.489000e+03</td>\n",
              "      <td>826.000000</td>\n",
              "      <td>1489.000000</td>\n",
              "      <td>826.000000</td>\n",
              "      <td>826.000000</td>\n",
              "      <td>826.000000</td>\n",
              "      <td>826.000000</td>\n",
              "    </tr>\n",
              "    <tr>\n",
              "      <th>mean</th>\n",
              "      <td>2.289176e+05</td>\n",
              "      <td>5.648466e+03</td>\n",
              "      <td>954.670702</td>\n",
              "      <td>51.666529</td>\n",
              "      <td>4.322034</td>\n",
              "      <td>5.491525</td>\n",
              "      <td>3.573850</td>\n",
              "      <td>4.210654</td>\n",
              "    </tr>\n",
              "    <tr>\n",
              "      <th>std</th>\n",
              "      <td>6.223744e+05</td>\n",
              "      <td>4.006779e+04</td>\n",
              "      <td>5317.702577</td>\n",
              "      <td>294.343442</td>\n",
              "      <td>10.845378</td>\n",
              "      <td>14.054200</td>\n",
              "      <td>8.846297</td>\n",
              "      <td>10.448334</td>\n",
              "    </tr>\n",
              "    <tr>\n",
              "      <th>min</th>\n",
              "      <td>0.000000e+00</td>\n",
              "      <td>0.000000e+00</td>\n",
              "      <td>2.000000</td>\n",
              "      <td>0.000000</td>\n",
              "      <td>0.000000</td>\n",
              "      <td>0.000000</td>\n",
              "      <td>0.000000</td>\n",
              "      <td>0.000000</td>\n",
              "    </tr>\n",
              "    <tr>\n",
              "      <th>25%</th>\n",
              "      <td>4.800000e+01</td>\n",
              "      <td>6.000000e+00</td>\n",
              "      <td>4.000000</td>\n",
              "      <td>0.011700</td>\n",
              "      <td>0.000000</td>\n",
              "      <td>0.000000</td>\n",
              "      <td>0.000000</td>\n",
              "      <td>0.000000</td>\n",
              "    </tr>\n",
              "    <tr>\n",
              "      <th>50%</th>\n",
              "      <td>4.984000e+03</td>\n",
              "      <td>9.000000e+01</td>\n",
              "      <td>12.000000</td>\n",
              "      <td>0.689650</td>\n",
              "      <td>0.000000</td>\n",
              "      <td>0.000000</td>\n",
              "      <td>0.000000</td>\n",
              "      <td>0.000000</td>\n",
              "    </tr>\n",
              "    <tr>\n",
              "      <th>75%</th>\n",
              "      <td>7.424400e+04</td>\n",
              "      <td>1.288000e+03</td>\n",
              "      <td>42.000000</td>\n",
              "      <td>9.286550</td>\n",
              "      <td>2.000000</td>\n",
              "      <td>4.000000</td>\n",
              "      <td>2.000000</td>\n",
              "      <td>2.000000</td>\n",
              "    </tr>\n",
              "    <tr>\n",
              "      <th>max</th>\n",
              "      <td>5.825656e+06</td>\n",
              "      <td>1.215918e+06</td>\n",
              "      <td>83240.000000</td>\n",
              "      <td>4803.045000</td>\n",
              "      <td>82.000000</td>\n",
              "      <td>116.000000</td>\n",
              "      <td>58.000000</td>\n",
              "      <td>68.000000</td>\n",
              "    </tr>\n",
              "  </tbody>\n",
              "</table>\n",
              "</div>\n",
              "      <button class=\"colab-df-convert\" onclick=\"convertToInteractive('df-e19a0e8d-e149-4896-867b-bb61ae780a81')\"\n",
              "              title=\"Convert this dataframe to an interactive table.\"\n",
              "              style=\"display:none;\">\n",
              "\n",
              "  <svg xmlns=\"http://www.w3.org/2000/svg\" height=\"24px\"viewBox=\"0 0 24 24\"\n",
              "       width=\"24px\">\n",
              "    <path d=\"M0 0h24v24H0V0z\" fill=\"none\"/>\n",
              "    <path d=\"M18.56 5.44l.94 2.06.94-2.06 2.06-.94-2.06-.94-.94-2.06-.94 2.06-2.06.94zm-11 1L8.5 8.5l.94-2.06 2.06-.94-2.06-.94L8.5 2.5l-.94 2.06-2.06.94zm10 10l.94 2.06.94-2.06 2.06-.94-2.06-.94-.94-2.06-.94 2.06-2.06.94z\"/><path d=\"M17.41 7.96l-1.37-1.37c-.4-.4-.92-.59-1.43-.59-.52 0-1.04.2-1.43.59L10.3 9.45l-7.72 7.72c-.78.78-.78 2.05 0 2.83L4 21.41c.39.39.9.59 1.41.59.51 0 1.02-.2 1.41-.59l7.78-7.78 2.81-2.81c.8-.78.8-2.07 0-2.86zM5.41 20L4 18.59l7.72-7.72 1.47 1.35L5.41 20z\"/>\n",
              "  </svg>\n",
              "      </button>\n",
              "\n",
              "\n",
              "\n",
              "    <div id=\"df-9ff9f2f8-2780-4560-8e54-5dfebae02649\">\n",
              "      <button class=\"colab-df-quickchart\" onclick=\"quickchart('df-9ff9f2f8-2780-4560-8e54-5dfebae02649')\"\n",
              "              title=\"Suggest charts.\"\n",
              "              style=\"display:none;\">\n",
              "\n",
              "<svg xmlns=\"http://www.w3.org/2000/svg\" height=\"24px\"viewBox=\"0 0 24 24\"\n",
              "     width=\"24px\">\n",
              "    <g>\n",
              "        <path d=\"M19 3H5c-1.1 0-2 .9-2 2v14c0 1.1.9 2 2 2h14c1.1 0 2-.9 2-2V5c0-1.1-.9-2-2-2zM9 17H7v-7h2v7zm4 0h-2V7h2v10zm4 0h-2v-4h2v4z\"/>\n",
              "    </g>\n",
              "</svg>\n",
              "      </button>\n",
              "    </div>\n",
              "\n",
              "<style>\n",
              "  .colab-df-quickchart {\n",
              "    background-color: #E8F0FE;\n",
              "    border: none;\n",
              "    border-radius: 50%;\n",
              "    cursor: pointer;\n",
              "    display: none;\n",
              "    fill: #1967D2;\n",
              "    height: 32px;\n",
              "    padding: 0 0 0 0;\n",
              "    width: 32px;\n",
              "  }\n",
              "\n",
              "  .colab-df-quickchart:hover {\n",
              "    background-color: #E2EBFA;\n",
              "    box-shadow: 0px 1px 2px rgba(60, 64, 67, 0.3), 0px 1px 3px 1px rgba(60, 64, 67, 0.15);\n",
              "    fill: #174EA6;\n",
              "  }\n",
              "\n",
              "  [theme=dark] .colab-df-quickchart {\n",
              "    background-color: #3B4455;\n",
              "    fill: #D2E3FC;\n",
              "  }\n",
              "\n",
              "  [theme=dark] .colab-df-quickchart:hover {\n",
              "    background-color: #434B5C;\n",
              "    box-shadow: 0px 1px 3px 1px rgba(0, 0, 0, 0.15);\n",
              "    filter: drop-shadow(0px 1px 2px rgba(0, 0, 0, 0.3));\n",
              "    fill: #FFFFFF;\n",
              "  }\n",
              "</style>\n",
              "\n",
              "    <script>\n",
              "      async function quickchart(key) {\n",
              "        const containerElement = document.querySelector('#' + key);\n",
              "        const charts = await google.colab.kernel.invokeFunction(\n",
              "            'suggestCharts', [key], {});\n",
              "      }\n",
              "    </script>\n",
              "\n",
              "      <script>\n",
              "\n",
              "function displayQuickchartButton(domScope) {\n",
              "  let quickchartButtonEl =\n",
              "    domScope.querySelector('#df-9ff9f2f8-2780-4560-8e54-5dfebae02649 button.colab-df-quickchart');\n",
              "  quickchartButtonEl.style.display =\n",
              "    google.colab.kernel.accessAllowed ? 'block' : 'none';\n",
              "}\n",
              "\n",
              "        displayQuickchartButton(document);\n",
              "      </script>\n",
              "      <style>\n",
              "    .colab-df-container {\n",
              "      display:flex;\n",
              "      flex-wrap:wrap;\n",
              "      gap: 12px;\n",
              "    }\n",
              "\n",
              "    .colab-df-convert {\n",
              "      background-color: #E8F0FE;\n",
              "      border: none;\n",
              "      border-radius: 50%;\n",
              "      cursor: pointer;\n",
              "      display: none;\n",
              "      fill: #1967D2;\n",
              "      height: 32px;\n",
              "      padding: 0 0 0 0;\n",
              "      width: 32px;\n",
              "    }\n",
              "\n",
              "    .colab-df-convert:hover {\n",
              "      background-color: #E2EBFA;\n",
              "      box-shadow: 0px 1px 2px rgba(60, 64, 67, 0.3), 0px 1px 3px 1px rgba(60, 64, 67, 0.15);\n",
              "      fill: #174EA6;\n",
              "    }\n",
              "\n",
              "    [theme=dark] .colab-df-convert {\n",
              "      background-color: #3B4455;\n",
              "      fill: #D2E3FC;\n",
              "    }\n",
              "\n",
              "    [theme=dark] .colab-df-convert:hover {\n",
              "      background-color: #434B5C;\n",
              "      box-shadow: 0px 1px 3px 1px rgba(0, 0, 0, 0.15);\n",
              "      filter: drop-shadow(0px 1px 2px rgba(0, 0, 0, 0.3));\n",
              "      fill: #FFFFFF;\n",
              "    }\n",
              "  </style>\n",
              "\n",
              "      <script>\n",
              "        const buttonEl =\n",
              "          document.querySelector('#df-e19a0e8d-e149-4896-867b-bb61ae780a81 button.colab-df-convert');\n",
              "        buttonEl.style.display =\n",
              "          google.colab.kernel.accessAllowed ? 'block' : 'none';\n",
              "\n",
              "        async function convertToInteractive(key) {\n",
              "          const element = document.querySelector('#df-e19a0e8d-e149-4896-867b-bb61ae780a81');\n",
              "          const dataTable =\n",
              "            await google.colab.kernel.invokeFunction('convertToInteractive',\n",
              "                                                     [key], {});\n",
              "          if (!dataTable) return;\n",
              "\n",
              "          const docLinkHtml = 'Like what you see? Visit the ' +\n",
              "            '<a target=\"_blank\" href=https://colab.research.google.com/notebooks/data_table.ipynb>data table notebook</a>'\n",
              "            + ' to learn more about interactive tables.';\n",
              "          element.innerHTML = '';\n",
              "          dataTable['output_type'] = 'display_data';\n",
              "          await google.colab.output.renderOutput(dataTable, element);\n",
              "          const docLink = document.createElement('div');\n",
              "          docLink.innerHTML = docLinkHtml;\n",
              "          element.appendChild(docLink);\n",
              "        }\n",
              "      </script>\n",
              "    </div>\n",
              "  </div>\n"
            ]
          },
          "metadata": {},
          "execution_count": 22
        }
      ]
    },
    {
      "cell_type": "code",
      "source": [
        "df_number_installs = df.groupby(['campaign_id','ad_id'])['installs'].sum()\n",
        "print(df_number_installs)"
      ],
      "metadata": {
        "colab": {
          "base_uri": "https://localhost:8080/"
        },
        "id": "YzJUgQcYt3m2",
        "outputId": "72b756d5-2f72-46c9-ba16-8acd89bf25b5"
      },
      "execution_count": null,
      "outputs": [
        {
          "output_type": "stream",
          "name": "stdout",
          "text": [
            "campaign_id  ad_id     \n",
            "campaign_13  ad_13             2.0\n",
            "campaign_16  ad_160KfFb      490.0\n",
            "             ad_1613Cm3        8.0\n",
            "             ad_161PGNX     1598.0\n",
            "             ad_162VcYT      156.0\n",
            "             ad_164s39k      248.0\n",
            "             ad_1658MjI       12.0\n",
            "             ad_165Ir4s       12.0\n",
            "             ad_167wQ9K        4.0\n",
            "             ad_1690b1k     1072.0\n",
            "             ad_16DJ04Y     4358.0\n",
            "             ad_16DpJ5e        0.0\n",
            "             ad_16FGWaT      438.0\n",
            "             ad_16HYgnd        0.0\n",
            "             ad_16J5S8q        0.0\n",
            "             ad_16L8hGR       18.0\n",
            "             ad_16Mvrvm       68.0\n",
            "             ad_16N7JOH     2082.0\n",
            "             ad_16OvRBM       64.0\n",
            "             ad_16Qnvp6       24.0\n",
            "             ad_16RnymO     1380.0\n",
            "             ad_16SmxpJ       70.0\n",
            "             ad_16SzuCz        0.0\n",
            "             ad_16TRY90        6.0\n",
            "             ad_16TbuLA      126.0\n",
            "             ad_16UB6lQ       40.0\n",
            "             ad_16V95hg        0.0\n",
            "             ad_16VAIpg      334.0\n",
            "             ad_16VFQT1      114.0\n",
            "             ad_16ZEk4H      414.0\n",
            "             ad_16aIubw        2.0\n",
            "             ad_16aRyUO        0.0\n",
            "             ad_16bN2GJ       70.0\n",
            "             ad_16cUNeI        0.0\n",
            "             ad_16cZYuD        6.0\n",
            "             ad_16d84uy      184.0\n",
            "             ad_16dEqIN       60.0\n",
            "             ad_16dQRXR        8.0\n",
            "             ad_16iTkkR      438.0\n",
            "             ad_16iiLJw      126.0\n",
            "             ad_16q1T9e        6.0\n",
            "             ad_16rc81y        2.0\n",
            "             ad_16sutOl      908.0\n",
            "             ad_16tAAuV       24.0\n",
            "             ad_16tDi2H     1094.0\n",
            "             ad_16tke86      232.0\n",
            "             ad_16v0cu6        0.0\n",
            "             ad_16xl9PD    12316.0\n",
            "             ad_16yieB8       32.0\n",
            "             ad_16ykSc1       22.0\n",
            "             ad_16z49oF       90.0\n",
            "             ad_16zXhnZ       20.0\n",
            "campaign_5   ad_5           1068.0\n",
            "campaign_6   ad_6           3776.0\n",
            "Name: installs, dtype: float64\n"
          ]
        }
      ]
    },
    {
      "cell_type": "markdown",
      "source": [
        "## Cuarto Ejercicio"
      ],
      "metadata": {
        "id": "cDk3GdwH7uPN"
      }
    },
    {
      "cell_type": "markdown",
      "source": [
        "### Extracción"
      ],
      "metadata": {
        "id": "z_cGbnZW7xDW"
      }
    },
    {
      "cell_type": "markdown",
      "source": [
        "Primero, lo más importante a saber es que al ser las 2 plataformas de un mismo ecosistema, será sencillo conectar Google Analytics con BigQuery sin usar ninguna herramienta externa.\n",
        "\n",
        "\n",
        "El primer paso es tener una cuenta de google registrada en\n",
        "https://analytics.google.com/\n",
        "\n",
        "A su vez es necesario tener una Property que indica la pagina de nuestra propiedad,desde donde vamos a extraer los movimientos de los clientes tales como *sessions, pageviews, users,\n",
        "bounce_rate, conversion_rate,etc*.\n",
        "\n",
        "Vamos a suponer que ya estan realizados las vistas con los datos que queremos tomar de metricas.\n",
        "\n",
        "A continuacion, para poder conectar bigquery con GA, debemos hacer uso de PRODUCT LINKS, y seleccionar la opcion de bigquery.\n",
        "\n",
        "Dentro de la misma, es importante seleccionar el proyecto que deberiamos haber creado anteriormente en la plataforma de bigquery.\n",
        "\n",
        "Para todo esto es importante haber habilitado la api de google ads desde la Google Cloud Console.\n",
        "\n",
        "Bigquery funcionará como datalake con los datos raw de google ads\n",
        "y finalmente como el datawarehouse luego de haber realizado todas las transformaciones en dbt."
      ],
      "metadata": {
        "id": "Hy-jWKFkmlhB"
      }
    },
    {
      "cell_type": "markdown",
      "source": [
        "###Data Modeling"
      ],
      "metadata": {
        "id": "kdo_YkMG7-R7"
      }
    },
    {
      "cell_type": "markdown",
      "source": [
        "\n",
        "\n",
        "Para realizar esta parte, haremos uso de DBT cloud aunque se podria utilizar el servicio gratuito de DBT core.\n",
        "\n",
        "Es necesario  realizar  la conexion con bigquery para que se utilice como motor de base de datos.\n",
        "https://docs.getdbt.com/docs/cloud/connect-data-platform/connect-bigquery\n",
        "\n",
        "Una vez conectado dbt cloud con bigquery, creamos el dbt_project.yml de la siguiente manera:\n",
        "\n",
        "\"\n",
        "\n",
        "\n",
        "```\n",
        "name: 'google ads'\n",
        "version: '1.0.0'\n",
        "config-version: 2\n",
        "\n",
        " This setting configures which \"profile\" dbt uses for this project.\n",
        "profile: 'bigquery'\n",
        "\n",
        " These configurations specify where dbt should look for different types of files.\n",
        " The `source-paths` config, for example, states that models in this project can be\n",
        " found in the \"models/\" directory. You probably won't need to change these!\n",
        "model-paths: [\"models\"]\n",
        "analysis-paths: [\"analysis\"]\n",
        "test-paths: [\"tests\"]\n",
        "seed-paths: [\"data\"]\n",
        "macro-paths: [\"macros\"]\n",
        "snapshot-paths: [\"snapshots\"]\n",
        "\n",
        "target-path: \"target\"  # directory which will store compiled SQL files\n",
        "clean-targets:         # directories to be removed by `dbt clean`\n",
        "    - \"target\"\n",
        "    - \"dbt_modules\"\n",
        "    - \"logs\"\n",
        "\n",
        "\n",
        "  \n",
        "models:\n",
        "  +materialized: table\n",
        "  +table_type: hive\n",
        "  +format: parquet\n",
        "  google ads:\n",
        "    staging:\n",
        "      +schema: datalake_ads\n",
        "      +tags: \"datalake\"\n",
        "      news_entities:\n",
        "        +materialized: view\n",
        "    intermediate:\n",
        "      +schema: datalake_ads\n",
        "      +materialized: view\n",
        "      +tags: \"datalake\"\n",
        "    mart:\n",
        "      +schema: dw_ads\n",
        "      +tags: \"dw\"\n",
        "```\n",
        "\n",
        "\n",
        "      \n",
        "\"\n",
        "\n",
        "A su vez, será necesario contar con un archivo de tipo yml que podemos nombrar como src_google_ads donde se realizara el mapeo con la tabla fuente que se encuentra en BigQuery.\n",
        "\n",
        "la referencia a la tabla/s fuente se realiza de la siguiente manera:\n",
        "\n",
        "\n",
        "\n",
        "```\n",
        "version: 2\n",
        "\n",
        "sources:\n",
        "    - name: \"nombre que tendran las fuentes que provienen del loader\"\n",
        "      loader: \"nombre del loader, puede utilizarse uno representativo de la forma de carga\"\n",
        "      description: \"se agrega una descripcion al loader\"\n",
        "      schema: datalake\n",
        "      tables:\n",
        "        - name: \"nombre de la tabla en BigQuery\"\n",
        "\n",
        "```\n",
        "\n"
      ],
      "metadata": {
        "id": "SSKu8eFP7wBG"
      }
    },
    {
      "cell_type": "markdown",
      "source": [
        "En la carpeta de **staging**:\n",
        "\n",
        "  Se haran pequeñas modificaciones, como casteos de valores y renombrado de columnas. el tipo de materializacion sera\n",
        "VIEW al igual que en la carpeta de Intermediate.\n",
        "\n",
        "En la carpeta **Intermediate**:\n",
        "\n",
        "Se haran los joins de las tablas que se necesiten incluir en el modelo y van a seguir la logica de negocio definida con los clientes de los reportes.\n",
        "\n",
        "En la carpeta **mart**:\n",
        "\n",
        "La materializacion sera de tipo incremental con el objetivo de bajar la cantidad de procesamiento cada vez que se ingresa nuevos datos. Este incremento tendra como valor clave la columna 'week_start_date'.\n",
        "\n",
        "Puede evaluarse la necesidad de crear una capa de snapshots para conservar la historia de las dimensiones lentamente cambiantes o de tipo 2.\n",
        "\n",
        "*Tambien seria posible incluir test genericos provistos por el package \"dbt.utils\" para validar que los datos ingestados son integros.*\n"
      ],
      "metadata": {
        "id": "hqGAdCDYFglR"
      }
    },
    {
      "cell_type": "markdown",
      "source": [
        "Para el caso de \"design a table to store the week-over-week report data\"\n",
        "va a ser un modelo en dbt en la capa de intermediate con el siguiente formato:\n",
        "\n",
        "```\n",
        "{{ config(\n",
        "    materialized='incremental',\n",
        "    partition_by=['week_start_date'],\n",
        "    file_format='parquet'\n",
        ") }}\n",
        "\n",
        "\n",
        "WITH campaigns AS (\n",
        "    SELECT\n",
        "        week_start_date,\n",
        "        sessions, pageviews,\n",
        "        users,\n",
        "        bounce_rate,\n",
        "        conversion_rate, etc.\n",
        "    FROM {{ref('stg_google_ads')}}\n",
        "```\n",
        "\n"
      ],
      "metadata": {
        "id": "MFfzvOffqlHm"
      }
    },
    {
      "cell_type": "markdown",
      "source": [
        "### Automatización"
      ],
      "metadata": {
        "id": "xzPcH2XHtD1l"
      }
    },
    {
      "cell_type": "markdown",
      "source": [
        "Para la parte de automatizacion del pipeline, hay 2 cosas a tener en cuenta:\n",
        "\n",
        "Se seleccionara la opción \"daily\" en la frecuencia de vinculacion de google ads y bigquery, por lo tanto 1 vez al dia se trasladaran los datos desde google ads hacia nuestro datalake en bigquery.\n",
        "\n",
        "Por otro lado, el proceso de modelado de datos estara a cargo de un Job scheduler que se va a repetir cada una semana"
      ],
      "metadata": {
        "id": "oXhjhWDSsXiJ"
      }
    },
    {
      "cell_type": "markdown",
      "source": [
        "### Reporteria en tableros"
      ],
      "metadata": {
        "id": "VYS_xqCKtINW"
      }
    },
    {
      "cell_type": "markdown",
      "source": [
        "Finalmente, las tablas finales se dispondran en formato dashboard para los usuarios finales de los datos en power bi\n",
        "Para el caso de la conexion al tablero, power bi dispone de un tutorial sencillo `https://learn.microsoft.com/en-us/power-query/connectors/google-bigquery`"
      ],
      "metadata": {
        "id": "KCB2iNIWtGoP"
      }
    }
  ]
}